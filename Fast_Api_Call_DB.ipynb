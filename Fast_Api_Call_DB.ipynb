{
 "cells": [
  {
   "cell_type": "code",
   "execution_count": 0,
   "metadata": {
    "application/vnd.databricks.v1+cell": {
     "cellMetadata": {
      "byteLimit": 2048000,
      "rowLimit": 10000
     },
     "inputWidgets": {},
     "nuid": "60e96e4d-1b99-448c-9671-ca1167e98409",
     "showTitle": false,
     "tableResultSettingsMap": {},
     "title": ""
    }
   },
   "outputs": [
    {
     "name": "stdout",
     "output_type": "stream",
     "text": [
      "API key retrieved from secrets\n",
      "Script name: None\n",
      "Combined parameter values: ''\n",
      "Running script: None\n",
      "API is accessible!\n",
      "Running script: None with parameters: \n",
      "Error running script: API error: Status code 404, Detail: Script not found: None\n",
      "Retrying (1/2)...\n",
      "Error running script: API error: Status code 404, Detail: Script not found: None\n"
     ]
    },
    {
     "data": {
      "text/plain": [
       "\u001b[0;31m---------------------------------------------------------------------------\u001b[0m\n",
       "\u001b[0;31mException\u001b[0m                                 Traceback (most recent call last)\n",
       "File \u001b[0;32m<command-4605066948949457>, line 214\u001b[0m\n",
       "\u001b[1;32m    212\u001b[0m \u001b[38;5;66;03m# Run the script with parameters\u001b[39;00m\n",
       "\u001b[1;32m    213\u001b[0m \u001b[38;5;28mprint\u001b[39m(\u001b[38;5;124mf\u001b[39m\u001b[38;5;124m\"\u001b[39m\u001b[38;5;124mRunning script: \u001b[39m\u001b[38;5;132;01m{\u001b[39;00mscript_name\u001b[38;5;132;01m}\u001b[39;00m\u001b[38;5;124m with parameters: \u001b[39m\u001b[38;5;132;01m{\u001b[39;00mparameters_str\u001b[38;5;132;01m}\u001b[39;00m\u001b[38;5;124m\"\u001b[39m)\n",
       "\u001b[0;32m--> 214\u001b[0m result \u001b[38;5;241m=\u001b[39m run_script(script_name, parameters_str)\n",
       "\u001b[1;32m    216\u001b[0m \u001b[38;5;66;03m# Check if the script execution was successful\u001b[39;00m\n",
       "\u001b[1;32m    217\u001b[0m \u001b[38;5;28;01mif\u001b[39;00m \u001b[38;5;129;01mnot\u001b[39;00m result\u001b[38;5;241m.\u001b[39mget(\u001b[38;5;124m\"\u001b[39m\u001b[38;5;124msuccess\u001b[39m\u001b[38;5;124m\"\u001b[39m, \u001b[38;5;28;01mFalse\u001b[39;00m):\n",
       "\n",
       "File \u001b[0;32m<command-4605066948949457>, line 131\u001b[0m, in \u001b[0;36mrun_script\u001b[0;34m(script_name, parameters_str)\u001b[0m\n",
       "\u001b[1;32m    128\u001b[0m             time\u001b[38;5;241m.\u001b[39msleep(RETRY_DELAY)\n",
       "\u001b[1;32m    129\u001b[0m         \u001b[38;5;28;01mcontinue\u001b[39;00m\n",
       "\u001b[0;32m--> 131\u001b[0m \u001b[38;5;28;01mraise\u001b[39;00m \u001b[38;5;167;01mException\u001b[39;00m(\u001b[38;5;124mf\u001b[39m\u001b[38;5;124m\"\u001b[39m\u001b[38;5;124mMaximum retries (\u001b[39m\u001b[38;5;132;01m{\u001b[39;00mMAX_RETRIES\u001b[38;5;132;01m}\u001b[39;00m\u001b[38;5;124m) exceeded. Unable to execute script.\u001b[39m\u001b[38;5;124m\"\u001b[39m)\n",
       "\n",
       "\u001b[0;31mException\u001b[0m: Maximum retries (2) exceeded. Unable to execute script."
      ]
     },
     "metadata": {
      "application/vnd.databricks.v1+output": {
       "addedWidgets": {},
       "arguments": {},
       "datasetInfos": [],
       "jupyterProps": {
        "ename": "Exception",
        "evalue": "Maximum retries (2) exceeded. Unable to execute script."
       },
       "metadata": {
        "errorSummary": "<span class='ansi-red-fg'>Exception</span>: Maximum retries (2) exceeded. Unable to execute script."
       },
       "removedWidgets": [],
       "sqlProps": null,
       "stackFrames": [
        "\u001b[0;31m---------------------------------------------------------------------------\u001b[0m",
        "\u001b[0;31mException\u001b[0m                                 Traceback (most recent call last)",
        "File \u001b[0;32m<command-4605066948949457>, line 214\u001b[0m\n\u001b[1;32m    212\u001b[0m \u001b[38;5;66;03m# Run the script with parameters\u001b[39;00m\n\u001b[1;32m    213\u001b[0m \u001b[38;5;28mprint\u001b[39m(\u001b[38;5;124mf\u001b[39m\u001b[38;5;124m\"\u001b[39m\u001b[38;5;124mRunning script: \u001b[39m\u001b[38;5;132;01m{\u001b[39;00mscript_name\u001b[38;5;132;01m}\u001b[39;00m\u001b[38;5;124m with parameters: \u001b[39m\u001b[38;5;132;01m{\u001b[39;00mparameters_str\u001b[38;5;132;01m}\u001b[39;00m\u001b[38;5;124m\"\u001b[39m)\n\u001b[0;32m--> 214\u001b[0m result \u001b[38;5;241m=\u001b[39m run_script(script_name, parameters_str)\n\u001b[1;32m    216\u001b[0m \u001b[38;5;66;03m# Check if the script execution was successful\u001b[39;00m\n\u001b[1;32m    217\u001b[0m \u001b[38;5;28;01mif\u001b[39;00m \u001b[38;5;129;01mnot\u001b[39;00m result\u001b[38;5;241m.\u001b[39mget(\u001b[38;5;124m\"\u001b[39m\u001b[38;5;124msuccess\u001b[39m\u001b[38;5;124m\"\u001b[39m, \u001b[38;5;28;01mFalse\u001b[39;00m):\n",
        "File \u001b[0;32m<command-4605066948949457>, line 131\u001b[0m, in \u001b[0;36mrun_script\u001b[0;34m(script_name, parameters_str)\u001b[0m\n\u001b[1;32m    128\u001b[0m             time\u001b[38;5;241m.\u001b[39msleep(RETRY_DELAY)\n\u001b[1;32m    129\u001b[0m         \u001b[38;5;28;01mcontinue\u001b[39;00m\n\u001b[0;32m--> 131\u001b[0m \u001b[38;5;28;01mraise\u001b[39;00m \u001b[38;5;167;01mException\u001b[39;00m(\u001b[38;5;124mf\u001b[39m\u001b[38;5;124m\"\u001b[39m\u001b[38;5;124mMaximum retries (\u001b[39m\u001b[38;5;132;01m{\u001b[39;00mMAX_RETRIES\u001b[38;5;132;01m}\u001b[39;00m\u001b[38;5;124m) exceeded. Unable to execute script.\u001b[39m\u001b[38;5;124m\"\u001b[39m)\n",
        "\u001b[0;31mException\u001b[0m: Maximum retries (2) exceeded. Unable to execute script."
       ],
       "type": "baseError"
      }
     },
     "output_type": "display_data"
    }
   ],
   "source": [
    "%python\n",
    "import requests\n",
    "import json\n",
    "import time\n",
    "import traceback\n",
    "from pyspark.sql import SparkSession\n",
    "from pyspark.sql.functions import current_timestamp\n",
    "from databricks.sdk import WorkspaceClient\n",
    "\n",
    "# API configuration\n",
    "API_URL = \"http://10.223.106.19:8000\"\n",
    "MAX_RETRIES = 2\n",
    "RETRY_DELAY = 2  # seconds\n",
    "\n",
    "# Initialize Spark session\n",
    "spark = SparkSession.builder.getOrCreate()\n",
    "\n",
    "# Initialize Databricks WorkspaceClient\n",
    "w = WorkspaceClient()\n",
    "\n",
    "# Retrieve API key from Databricks Secret\n",
    "try:\n",
    "    API_KEY = dbutils.secrets.get(scope=\"dev_secret_scope\", key=\"fast-api-key\")\n",
    "    print(\"API key retrieved from secrets\")\n",
    "except Exception as e:\n",
    "    print(f\"Error retrieving API key: {e}\")\n",
    "    raise Exception(f\"Failed to retrieve API key: {e}\")\n",
    "\n",
    "# Get the workflow name and job ID from the notebook context\n",
    "try:\n",
    "    # context = dbutils.notebook.entry_point.getDbutils().notebook().getContext()\n",
    "    # workflow_name = context.tags().get(\"jobName\")\n",
    "    # print(\"testing\",workflow_name)\n",
    "    # job_id = context.tags().get(\"jobId\")\n",
    "    job_id = dbutils.notebook.entry_point.getDbutils().notebook().getContext().jobId().get()\n",
    "    workflow_name = dbutils.notebook.entry_point.getDbutils().notebook().getContext().jobName().get()\n",
    "    job_id = str(job_id)\n",
    "    # job_id = job_id[5:-1]\n",
    "    if workflow_name:\n",
    "        workflow_name = str(workflow_name)\n",
    "        # workflow_name = workflow_name[5:-1]  # Extract the inner value\n",
    "    script_name = workflow_name\n",
    "    print(f\"Script name: {script_name}, Job ID: {job_id}\")\n",
    "except Exception as e:\n",
    "    print(f\"Error getting workflow context: {e}\")\n",
    "    raise Exception(\"Failed to retrieve workflow context\")\n",
    "\n",
    "# Fetch job definition using Databricks SDK\n",
    "def get_job_definition(job_id, script_name):\n",
    "    try:\n",
    "        if job_id:\n",
    "            job = w.jobs.get(job_id=job_id)\n",
    "            return job.as_dict()\n",
    "        else:\n",
    "            print(f\"No job ID provided, cannot fetch job definition for {script_name}\")\n",
    "            return {}\n",
    "    except Exception as e:\n",
    "        print(f\"Error fetching job definition: {e}\")\n",
    "        return {}\n",
    "\n",
    "# Extract parameters from job definition\n",
    "def extract_parameters(script_name, job_id):\n",
    "    parameters = {}\n",
    "    all_values = []\n",
    "    \n",
    "    job_def = get_job_definition(job_id, script_name)\n",
    "    if not job_def:\n",
    "        print(f\"No job definition found for {script_name}, cannot extract parameters\")\n",
    "        return parameters, all_values\n",
    "\n",
    "    try:\n",
    "        if \"tasks\" in job_def.get(\"settings\", {}):\n",
    "            for task in job_def[\"settings\"][\"tasks\"]:\n",
    "                if \"notebook_task\" in task and \"base_parameters\" in task[\"notebook_task\"]:\n",
    "                    task_params = task[\"notebook_task\"][\"base_parameters\"]\n",
    "                    for key, value in task_params.items():\n",
    "                        parameters[key] = value\n",
    "                        all_values.append(str(value))\n",
    "        print(f\"Parameters extracted from job definition: {parameters}\")\n",
    "    except Exception as e:\n",
    "        print(f\"Error extracting parameters from job definition: {e}\")\n",
    "        print(traceback.format_exc())\n",
    "    \n",
    "    return parameters, all_values\n",
    "\n",
    "# Combine parameters\n",
    "parameters, job_values = extract_parameters(script_name, job_id)\n",
    "\n",
    "all_values = job_values \n",
    "print(all_values)\n",
    "parameters_str = \" \".join(str(v) for v in all_values if v)\n",
    "print(f\"Combined parameter values: '{parameters_str}'\")\n",
    "print(f\"Running script: {script_name}\")\n",
    "\n",
    "# Check API health\n",
    "def check_api_health():\n",
    "    try:\n",
    "        response = requests.get(\n",
    "            f\"{API_URL}/health\",\n",
    "            headers={\"X-API-Key\": API_KEY},\n",
    "            timeout=10\n",
    "        )\n",
    "        if response.status_code == 200:\n",
    "            print(\"API is accessible!\")\n",
    "            return True\n",
    "        else:\n",
    "            error_detail = response.json().get(\"detail\", response.text) if response.content else \"No response content\"\n",
    "            print(f\"API returned status code: {response.status_code}, Detail: {error_detail}\")\n",
    "            return False\n",
    "    except Exception as e:\n",
    "        print(f\"Error connecting to API: {e}\")\n",
    "        return False\n",
    "\n",
    "# Run script with retry logic\n",
    "def run_script(script_name, parameters_str):\n",
    "    retries = 0\n",
    "    while retries < MAX_RETRIES:\n",
    "        try:\n",
    "            payload = {\"script_name\": script_name}\n",
    "            if parameters_str:\n",
    "                payload[\"parameters\"] = parameters_str\n",
    "                \n",
    "            response = requests.post(\n",
    "                f\"{API_URL}/run-script\",\n",
    "                json=payload,\n",
    "                headers={\"X-API-Key\": API_KEY},\n",
    "                timeout=300\n",
    "            )\n",
    "            \n",
    "            if response.status_code == 200:\n",
    "                return response.json()\n",
    "            elif response.status_code == 429:\n",
    "                retry_after = int(response.headers.get('Retry-After', RETRY_DELAY))\n",
    "                error_detail = response.json().get(\"detail\", \"Rate limit exceeded\") if response.content else \"No response content\"\n",
    "                print(f\"Rate limit exceeded: {error_detail}. Retrying in {retry_after} seconds...\")\n",
    "                time.sleep(retry_after)\n",
    "                retries += 1\n",
    "                continue\n",
    "            else:\n",
    "                error_detail = response.json().get(\"detail\", response.text) if response.content else \"No response content\"\n",
    "                raise Exception(f\"API error: Status code {response.status_code}, Detail: {error_detail}\")\n",
    "        except Exception as e:\n",
    "            print(f\"Error running script: {e}\")\n",
    "            retries += 1\n",
    "            if retries < MAX_RETRIES:\n",
    "                print(f\"Retrying ({retries}/{MAX_RETRIES})...\")\n",
    "                time.sleep(RETRY_DELAY)\n",
    "            continue\n",
    "    \n",
    "    raise Exception(f\"Maximum retries ({MAX_RETRIES}) exceeded. Unable to execute script.\")\n",
    "\n",
    "# Prepare data for storage\n",
    "def prepare_data_for_storage(json_data):\n",
    "    if not json_data:\n",
    "        print(\"No data to store\")\n",
    "        return None\n",
    "    \n",
    "    try:\n",
    "        text_value = json.dumps(json_data)\n",
    "        data = [(text_value,)]\n",
    "        df = spark.createDataFrame(data, [\"text_value\"])\n",
    "        df = df.withColumn(\"updated_date\", current_timestamp())\n",
    "        return df\n",
    "    except Exception as e:\n",
    "        print(f\"Error preparing data for storage: {e}\")\n",
    "        return None\n",
    "\n",
    "# Main execution\n",
    "try:\n",
    "    if not script_name:\n",
    "        raise Exception(\"No valid script name provided. Please provide a script_name parameter.\")\n",
    "\n",
    "    if not check_api_health():\n",
    "        raise Exception(\"Cannot run script. API is not accessible.\")\n",
    "\n",
    "    print(f\"Running script: {script_name} with parameters: {parameters_str}\")\n",
    "    result = run_script(script_name, parameters_str)\n",
    "\n",
    "    if not result.get(\"success\", False):\n",
    "        error_msg = result.get(\"output\", \"No error message provided by API\")\n",
    "        raise Exception(f\"Script execution failed: {error_msg}\")\n",
    "\n",
    "    print(f\"\\nScript execution successful: {result['success']}\")\n",
    "    if result.get(\"error\"):\n",
    "        print(f\"\\nExecution stderr (logged for reference):\\n{result['error']}\")\n",
    "\n",
    "    storage_df = prepare_data_for_storage(result)\n",
    "    if storage_df is not None:\n",
    "        print(\"\\nData prepared for storage:\")\n",
    "        display(storage_df)\n",
    "        table_name = f\"{script_name.replace('.', '_').replace('-', '_')}\"\n",
    "        storage_df.write.format(\"delta\").mode(\"append\").saveAsTable(table_name)\n",
    "        print(f\"Results saved to table: {table_name}\")\n",
    "    else:\n",
    "        raise Exception(\"Failed to prepare data for storage.\")\n",
    "        \n",
    "except Exception as e:\n",
    "    print(f\"Error in main execution: {e}\")\n",
    "    print(traceback.format_exc())\n",
    "    raise"
   ]
  }
 ],
 "metadata": {
  "application/vnd.databricks.v1+notebook": {
   "computePreferences": null,
   "dashboards": [],
   "environmentMetadata": {
    "base_environment": "",
    "environment_version": "2"
   },
   "inputWidgetPreferences": null,
   "language": "python",
   "notebookMetadata": {
    "pythonIndentUnit": 4,
    "widgetLayout": []
   },
   "notebookName": "Fast_Api_Call",
   "widgets": {
    "list_scripts": {
     "currentValue": "No",
     "nuid": "008887a0-b4b2-4255-8df1-92d23b419374",
     "typedWidgetInfo": {
      "autoCreated": false,
      "defaultValue": "No",
      "label": "List Available Scripts",
      "name": "list_scripts",
      "options": {
       "choices": [
        "No",
        "Yes"
       ],
       "fixedDomain": true,
       "multiselect": false,
       "widgetDisplayType": "Dropdown"
      },
      "parameterDataType": "String"
     },
     "widgetInfo": {
      "defaultValue": "No",
      "label": "List Available Scripts",
      "name": "list_scripts",
      "options": {
       "autoCreated": false,
       "choices": [
        "No",
        "Yes"
       ],
       "widgetType": "dropdown"
      },
      "widgetType": "dropdown"
     }
    },
    "parameters": {
     "currentValue": "category=Sales,month=January",
     "nuid": "43c44e7f-aec0-4e39-944d-9eef11fbbcea",
     "typedWidgetInfo": {
      "autoCreated": false,
      "defaultValue": "",
      "label": "Parameters (comma-separated key=value pairs)",
      "name": "parameters",
      "options": {
       "validationRegex": null,
       "widgetDisplayType": "Text"
      },
      "parameterDataType": "String"
     },
     "widgetInfo": {
      "defaultValue": "",
      "label": "Parameters (comma-separated key=value pairs)",
      "name": "parameters",
      "options": {
       "autoCreated": null,
       "validationRegex": null,
       "widgetType": "text"
      },
      "widgetType": "text"
     }
    },
    "script_name": {
     "currentValue": "budget_finance.py",
     "nuid": "4bc5dd6b-5cf5-44c3-acb5-bca336197248",
     "typedWidgetInfo": {
      "autoCreated": false,
      "defaultValue": "",
      "label": "Script Name",
      "name": "script_name",
      "options": {
       "validationRegex": null,
       "widgetDisplayType": "Text"
      },
      "parameterDataType": "String"
     },
     "widgetInfo": {
      "defaultValue": "",
      "label": "Script Name",
      "name": "script_name",
      "options": {
       "autoCreated": null,
       "validationRegex": null,
       "widgetType": "text"
      },
      "widgetType": "text"
     }
    }
   }
  },
  "language_info": {
   "name": "python"
  }
 },
 "nbformat": 4,
 "nbformat_minor": 0
}
