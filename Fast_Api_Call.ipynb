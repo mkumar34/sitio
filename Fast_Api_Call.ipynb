{
 "cells": [
  {
   "cell_type": "code",
   "execution_count": 0,
   "metadata": {
    "application/vnd.databricks.v1+cell": {
     "cellMetadata": {
      "byteLimit": 2048000,
      "rowLimit": 10000
     },
     "inputWidgets": {},
     "nuid": "60e96e4d-1b99-448c-9671-ca1167e98409",
     "showTitle": false,
     "tableResultSettingsMap": {},
     "title": ""
    }
   },
   "outputs": [
    {
     "output_type": "stream",
     "name": "stdout",
     "output_type": "stream",
     "text": [
      "API key retrieved from secrets\nScript name: None\nCombined parameter values: ''\nRunning script: None\nAPI is accessible!\nRunning script: None with parameters: \nError running script: API error: Status code 404, Detail: Script not found: None\nRetrying (1/2)...\nError running script: API error: Status code 404, Detail: Script not found: None\n"
     ]
    },
    {
     "output_type": "display_data",
     "data": {
      "text/plain": [
       "\u001B[0;31m---------------------------------------------------------------------------\u001B[0m\n",
       "\u001B[0;31mException\u001B[0m                                 Traceback (most recent call last)\n",
       "File \u001B[0;32m<command-4605066948949457>, line 214\u001B[0m\n",
       "\u001B[1;32m    212\u001B[0m \u001B[38;5;66;03m# Run the script with parameters\u001B[39;00m\n",
       "\u001B[1;32m    213\u001B[0m \u001B[38;5;28mprint\u001B[39m(\u001B[38;5;124mf\u001B[39m\u001B[38;5;124m\"\u001B[39m\u001B[38;5;124mRunning script: \u001B[39m\u001B[38;5;132;01m{\u001B[39;00mscript_name\u001B[38;5;132;01m}\u001B[39;00m\u001B[38;5;124m with parameters: \u001B[39m\u001B[38;5;132;01m{\u001B[39;00mparameters_str\u001B[38;5;132;01m}\u001B[39;00m\u001B[38;5;124m\"\u001B[39m)\n",
       "\u001B[0;32m--> 214\u001B[0m result \u001B[38;5;241m=\u001B[39m run_script(script_name, parameters_str)\n",
       "\u001B[1;32m    216\u001B[0m \u001B[38;5;66;03m# Check if the script execution was successful\u001B[39;00m\n",
       "\u001B[1;32m    217\u001B[0m \u001B[38;5;28;01mif\u001B[39;00m \u001B[38;5;129;01mnot\u001B[39;00m result\u001B[38;5;241m.\u001B[39mget(\u001B[38;5;124m\"\u001B[39m\u001B[38;5;124msuccess\u001B[39m\u001B[38;5;124m\"\u001B[39m, \u001B[38;5;28;01mFalse\u001B[39;00m):\n",
       "\n",
       "File \u001B[0;32m<command-4605066948949457>, line 131\u001B[0m, in \u001B[0;36mrun_script\u001B[0;34m(script_name, parameters_str)\u001B[0m\n",
       "\u001B[1;32m    128\u001B[0m             time\u001B[38;5;241m.\u001B[39msleep(RETRY_DELAY)\n",
       "\u001B[1;32m    129\u001B[0m         \u001B[38;5;28;01mcontinue\u001B[39;00m\n",
       "\u001B[0;32m--> 131\u001B[0m \u001B[38;5;28;01mraise\u001B[39;00m \u001B[38;5;167;01mException\u001B[39;00m(\u001B[38;5;124mf\u001B[39m\u001B[38;5;124m\"\u001B[39m\u001B[38;5;124mMaximum retries (\u001B[39m\u001B[38;5;132;01m{\u001B[39;00mMAX_RETRIES\u001B[38;5;132;01m}\u001B[39;00m\u001B[38;5;124m) exceeded. Unable to execute script.\u001B[39m\u001B[38;5;124m\"\u001B[39m)\n",
       "\n",
       "\u001B[0;31mException\u001B[0m: Maximum retries (2) exceeded. Unable to execute script."
      ]
     },
     "metadata": {
      "application/vnd.databricks.v1+output": {
       "addedWidgets": {},
       "arguments": {},
       "datasetInfos": [],
       "jupyterProps": {
        "ename": "Exception",
        "evalue": "Maximum retries (2) exceeded. Unable to execute script."
       },
       "metadata": {
        "errorSummary": "<span class='ansi-red-fg'>Exception</span>: Maximum retries (2) exceeded. Unable to execute script."
       },
       "removedWidgets": [],
       "sqlProps": null,
       "stackFrames": [
        "\u001B[0;31m---------------------------------------------------------------------------\u001B[0m",
        "\u001B[0;31mException\u001B[0m                                 Traceback (most recent call last)",
        "File \u001B[0;32m<command-4605066948949457>, line 214\u001B[0m\n\u001B[1;32m    212\u001B[0m \u001B[38;5;66;03m# Run the script with parameters\u001B[39;00m\n\u001B[1;32m    213\u001B[0m \u001B[38;5;28mprint\u001B[39m(\u001B[38;5;124mf\u001B[39m\u001B[38;5;124m\"\u001B[39m\u001B[38;5;124mRunning script: \u001B[39m\u001B[38;5;132;01m{\u001B[39;00mscript_name\u001B[38;5;132;01m}\u001B[39;00m\u001B[38;5;124m with parameters: \u001B[39m\u001B[38;5;132;01m{\u001B[39;00mparameters_str\u001B[38;5;132;01m}\u001B[39;00m\u001B[38;5;124m\"\u001B[39m)\n\u001B[0;32m--> 214\u001B[0m result \u001B[38;5;241m=\u001B[39m run_script(script_name, parameters_str)\n\u001B[1;32m    216\u001B[0m \u001B[38;5;66;03m# Check if the script execution was successful\u001B[39;00m\n\u001B[1;32m    217\u001B[0m \u001B[38;5;28;01mif\u001B[39;00m \u001B[38;5;129;01mnot\u001B[39;00m result\u001B[38;5;241m.\u001B[39mget(\u001B[38;5;124m\"\u001B[39m\u001B[38;5;124msuccess\u001B[39m\u001B[38;5;124m\"\u001B[39m, \u001B[38;5;28;01mFalse\u001B[39;00m):\n",
        "File \u001B[0;32m<command-4605066948949457>, line 131\u001B[0m, in \u001B[0;36mrun_script\u001B[0;34m(script_name, parameters_str)\u001B[0m\n\u001B[1;32m    128\u001B[0m             time\u001B[38;5;241m.\u001B[39msleep(RETRY_DELAY)\n\u001B[1;32m    129\u001B[0m         \u001B[38;5;28;01mcontinue\u001B[39;00m\n\u001B[0;32m--> 131\u001B[0m \u001B[38;5;28;01mraise\u001B[39;00m \u001B[38;5;167;01mException\u001B[39;00m(\u001B[38;5;124mf\u001B[39m\u001B[38;5;124m\"\u001B[39m\u001B[38;5;124mMaximum retries (\u001B[39m\u001B[38;5;132;01m{\u001B[39;00mMAX_RETRIES\u001B[38;5;132;01m}\u001B[39;00m\u001B[38;5;124m) exceeded. Unable to execute script.\u001B[39m\u001B[38;5;124m\"\u001B[39m)\n",
        "\u001B[0;31mException\u001B[0m: Maximum retries (2) exceeded. Unable to execute script."
       ],
       "type": "baseError"
      }
     },
     "output_type": "display_data"
    }
   ],
   "source": [
    "import requests\n",
    "import json\n",
    "import time\n",
    "from pyspark.sql.types import StructType, StringType, FloatType, IntegerType, TimestampType\n",
    "from pyspark.sql import SparkSession\n",
    "from pyspark.sql.functions import col, from_json, current_timestamp, to_json, struct\n",
    "\n",
    "# API configuration\n",
    "API_URL = \"http://10.223.106.19:8000\"\n",
    "MAX_RETRIES = 2\n",
    "RETRY_DELAY = 2  # seconds\n",
    "\n",
    "# Retrieve API key from Databricks Secret\n",
    "try:\n",
    "    API_KEY = dbutils.secrets.get(scope=\"dev_secret_scope\", key=\"fast-api-key\")\n",
    "    print(\"API key retrieved from secrets\")\n",
    "except Exception as e:\n",
    "    print(f\"Error retrieving API key: {e}\")\n",
    "    raise Exception(f\"Failed to retrieve API key: {e}\")\n",
    "\n",
    "# Get the workflow name from the notebook context or widget\n",
    "workflow_name = dbutils.notebook.entry_point.getDbutils().notebook().getContext().tags().get(\"jobName\")\n",
    "\n",
    "if workflow_name:\n",
    "    workflow_name = str(workflow_name)\n",
    "    if workflow_name.startswith(\"Some(\") and workflow_name.endswith(\")\"):\n",
    "        workflow_name = workflow_name[5:-1]  # Extract the inner value\n",
    "\n",
    "script_name = workflow_name\n",
    "print(f\"Script name: {script_name}\")\n",
    "all_values = []\n",
    "widget_values = dbutils.widgets.getAll()\n",
    "print(widget_values)\n",
    "if 'env' in widget_values:\n",
    "    all_values.append(widget_values['env'])\n",
    "\n",
    "# Add other parameters\n",
    "for key, value in widget_values.items():\n",
    "    if key != 'env' and value:  # Skip 'env' as it is already added\n",
    "        all_values.append(value)\n",
    "\n",
    "parameters_str = \" \".join(all_values)\n",
    "\n",
    "print(f\"Combined parameter values: '{parameters_str}'\")\n",
    "\n",
    "print(f\"Running script: {script_name}\")\n",
    "\n",
    "# Check if API is accessible\n",
    "def check_api_health():\n",
    "    try:\n",
    "        response = requests.get(\n",
    "            f\"{API_URL}/health\",\n",
    "            headers={\"X-API-Key\": API_KEY},\n",
    "            timeout=10\n",
    "        )\n",
    "        if response.status_code == 200:\n",
    "            print(\"API is accessible!\")\n",
    "            return True\n",
    "        else:\n",
    "            error_detail = response.json().get(\"detail\", response.text) if response.content else \"No response content\"\n",
    "            print(f\"API returned status code: {response.status_code}, Detail: {error_detail}\")\n",
    "            return False\n",
    "    except Exception as e:\n",
    "        print(f\"Error connecting to API: {e}\")\n",
    "        return False\n",
    "\n",
    "# Run a script with parameters and get results with retry logic\n",
    "def run_script(script_name, parameters_str):\n",
    "    retries = 0\n",
    "    while retries < MAX_RETRIES:\n",
    "        try:\n",
    "            payload = {\n",
    "                \"script_name\": script_name\n",
    "            }\n",
    "            \n",
    "            if parameters_str:\n",
    "                payload[\"parameters\"] = parameters_str\n",
    "                \n",
    "            response = requests.post(\n",
    "                f\"{API_URL}/run-script\",\n",
    "                json=payload,\n",
    "                headers={\"X-API-Key\": API_KEY},\n",
    "                timeout=300  \n",
    "            )\n",
    "            \n",
    "            if response.status_code == 200:\n",
    "                return response.json()\n",
    "            elif response.status_code == 429:  # Rate limit exceeded\n",
    "                retry_after = int(response.headers.get('Retry-After', RETRY_DELAY))\n",
    "                error_detail = response.json().get(\"detail\", \"Rate limit exceeded\") if response.content else \"No response content\"\n",
    "                print(f\"Rate limit exceeded: {error_detail}. Retrying in {retry_after} seconds...\")\n",
    "                time.sleep(retry_after)\n",
    "                retries += 1\n",
    "                continue\n",
    "            else:\n",
    "                error_detail = response.json().get(\"detail\", response.text) if response.content else \"No response content\"\n",
    "                raise Exception(f\"API error: Status code {response.status_code}, Detail: {error_detail}\")\n",
    "        except Exception as e:\n",
    "            print(f\"Error running script: {e}\")\n",
    "            retries += 1\n",
    "            if retries < MAX_RETRIES:\n",
    "                print(f\"Retrying ({retries}/{MAX_RETRIES})...\")\n",
    "                time.sleep(RETRY_DELAY)\n",
    "            continue\n",
    "    \n",
    "    raise Exception(f\"Maximum retries ({MAX_RETRIES}) exceeded. Unable to execute script.\")\n",
    "\n",
    "def prepare_data_for_storage(json_data):\n",
    "    if not json_data:\n",
    "        print(\"No data to store\")\n",
    "        return None\n",
    "    \n",
    "    spark = SparkSession.builder.getOrCreate()\n",
    "    \n",
    "    # Convert the entire JSON output to a string\n",
    "    text_value = json.dumps(json_data)\n",
    "    \n",
    "    # Create a DataFrame with text_value and updated_date columns\n",
    "    data = [(text_value,)]\n",
    "    df = spark.createDataFrame(data, [\"text_value\"])\n",
    "    \n",
    "    # Add updated_date column with current timestamp\n",
    "    df = df.withColumn(\"updated_date\", current_timestamp())\n",
    "    \n",
    "    return df\n",
    "\n",
    "if not script_name:\n",
    "    raise Exception(\"No script name provided. Please provide a script_name parameter.\")\n",
    "\n",
    "# Check API health\n",
    "if not check_api_health():\n",
    "    raise Exception(\"Cannot run script. API is not accessible.\")\n",
    "\n",
    "# Run the script with parameters\n",
    "print(f\"Running script: {script_name} with parameters: {parameters_str}\")\n",
    "result = run_script(script_name, parameters_str)\n",
    "\n",
    "# Check if the script execution was successful\n",
    "if not result.get(\"success\", False):\n",
    "    error_msg = result.get(\"output\", \"No error message provided by API\")\n",
    "    raise Exception(f\"Script execution failed: {error_msg}\")\n",
    "\n",
    "# If execution is successful, proceed with processing and storing results\n",
    "print(f\"\\nScript execution successful: {result['success']}\")\n",
    "\n",
    "# Log any errors for reference (non-fatal stderr)\n",
    "if result.get(\"error\"):\n",
    "    print(f\"\\nExecution stderr (logged for reference):\\n{result['error']}\")\n",
    "\n",
    "# Convert to simple DataFrame with text_value and updated_date\n",
    "storage_df = prepare_data_for_storage(result)\n",
    "if storage_df is not None:\n",
    "    print(\"\\nData prepared for storage:\")\n",
    "    display(storage_df)\n",
    "    # Save to a Delta table\n",
    "    table_name = f\"{script_name.replace('.', '_').replace('-', '_')}\"\n",
    "    storage_df.write.format(\"delta\").mode(\"append\").saveAsTable(table_name)\n",
    "    print(f\"Results saved to table: {table_name}\")\n",
    "else:\n",
    "    raise Exception(\"Failed to prepare data for storage.\")"
   ]
  }
 ],
 "metadata": {
  "application/vnd.databricks.v1+notebook": {
   "computePreferences": null,
   "dashboards": [],
   "environmentMetadata": {
    "base_environment": "",
    "environment_version": "2"
   },
   "inputWidgetPreferences": null,
   "language": "python",
   "notebookMetadata": {
    "pythonIndentUnit": 4,
    "widgetLayout": []
   },
   "notebookName": "Fast_Api_Call",
   "widgets": {
    "list_scripts": {
     "currentValue": "No",
     "nuid": "008887a0-b4b2-4255-8df1-92d23b419374",
     "typedWidgetInfo": {
      "autoCreated": false,
      "defaultValue": "No",
      "label": "List Available Scripts",
      "name": "list_scripts",
      "options": {
       "widgetDisplayType": "Dropdown",
       "choices": [
        "No",
        "Yes"
       ],
       "fixedDomain": true,
       "multiselect": false
      },
      "parameterDataType": "String"
     },
     "widgetInfo": {
      "widgetType": "dropdown",
      "defaultValue": "No",
      "label": "List Available Scripts",
      "name": "list_scripts",
      "options": {
       "widgetType": "dropdown",
       "autoCreated": false,
       "choices": [
        "No",
        "Yes"
       ]
      }
     }
    },
    "parameters": {
     "currentValue": "category=Sales,month=January",
     "nuid": "43c44e7f-aec0-4e39-944d-9eef11fbbcea",
     "typedWidgetInfo": {
      "autoCreated": false,
      "defaultValue": "",
      "label": "Parameters (comma-separated key=value pairs)",
      "name": "parameters",
      "options": {
       "widgetDisplayType": "Text",
       "validationRegex": null
      },
      "parameterDataType": "String"
     },
     "widgetInfo": {
      "widgetType": "text",
      "defaultValue": "",
      "label": "Parameters (comma-separated key=value pairs)",
      "name": "parameters",
      "options": {
       "widgetType": "text",
       "autoCreated": null,
       "validationRegex": null
      }
     }
    },
    "script_name": {
     "currentValue": "budget_finance.py",
     "nuid": "4bc5dd6b-5cf5-44c3-acb5-bca336197248",
     "typedWidgetInfo": {
      "autoCreated": false,
      "defaultValue": "",
      "label": "Script Name",
      "name": "script_name",
      "options": {
       "widgetDisplayType": "Text",
       "validationRegex": null
      },
      "parameterDataType": "String"
     },
     "widgetInfo": {
      "widgetType": "text",
      "defaultValue": "",
      "label": "Script Name",
      "name": "script_name",
      "options": {
       "widgetType": "text",
       "autoCreated": null,
       "validationRegex": null
      }
     }
    }
   }
  },
  "language_info": {
   "name": "python"
  }
 },
 "nbformat": 4,
 "nbformat_minor": 0
}