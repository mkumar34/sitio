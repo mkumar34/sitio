{
 "cells": [
  {
   "cell_type": "code",
   "execution_count": 0,
   "metadata": {
    "application/vnd.databricks.v1+cell": {
     "cellMetadata": {
      "byteLimit": 2048000,
      "rowLimit": 10000
     },
     "inputWidgets": {},
     "nuid": "8c28c780-c4f6-45b3-8421-8e0b88f97fc6",
     "showTitle": false,
     "tableResultSettingsMap": {},
     "title": ""
    }
   },
   "outputs": [
    {
     "name": "stdout",
     "output_type": "stream",
     "text": [
      "API key retrieved from secrets\n",
      "Raw widget values - script_name: 'budget_finance.py', parameters: 'category=Sales,month=January'\n",
      "Running script: budget_finance.py\n",
      "With parameters: {\n",
      "  \"category\": \"Sales\",\n",
      "  \"month\": \"January\"\n",
      "}\n",
      "API is accessible!\n",
      "Running script: budget_finance.py with parameters: {'category': 'Sales', 'month': 'January'}\n",
      "\n",
      "Script execution successful: True\n",
      "\n",
      "Summary:\n",
      "  total_budget: 75000\n",
      "  total_actual: 78200\n",
      "  total_variance: 3200\n",
      "  variance_percent: 4.27\n",
      "  record_count: 1\n",
      "  run_timestamp: 2025-03-25 10:06:50\n",
      "\n",
      "Data from script execution:\n"
     ]
    },
    {
     "data": {
      "text/html": [
       "<style scoped>\n",
       "  .table-result-container {\n",
       "    max-height: 300px;\n",
       "    overflow: auto;\n",
       "  }\n",
       "  table, th, td {\n",
       "    border: 1px solid black;\n",
       "    border-collapse: collapse;\n",
       "  }\n",
       "  th, td {\n",
       "    padding: 5px;\n",
       "  }\n",
       "  th {\n",
       "    text-align: left;\n",
       "  }\n",
       "</style><div class='table-result-container'><table class='table-result'><thead style='background-color: white'><tr><th>actual</th><th>budget</th><th>category</th><th>month</th><th>quarter</th><th>variance</th></tr></thead><tbody><tr><td>78200</td><td>75000</td><td>Sales</td><td>January</td><td>Q1</td><td>3200</td></tr></tbody></table></div>"
      ]
     },
     "metadata": {
      "application/vnd.databricks.v1+output": {
       "addedWidgets": {},
       "aggData": [],
       "aggError": "",
       "aggOverflow": false,
       "aggSchema": [],
       "aggSeriesLimitReached": false,
       "aggType": "",
       "arguments": {},
       "columnCustomDisplayInfos": {},
       "data": [
        [
         78200,
         75000,
         "Sales",
         "January",
         "Q1",
         3200
        ]
       ],
       "datasetInfos": [],
       "dbfsResultPath": null,
       "isJsonSchema": true,
       "metadata": {},
       "overflow": false,
       "plotOptions": {
        "customPlotOptions": {},
        "displayType": "table",
        "pivotAggregation": null,
        "pivotColumns": null,
        "xColumns": null,
        "yColumns": null
       },
       "removedWidgets": [],
       "schema": [
        {
         "metadata": "{}",
         "name": "actual",
         "type": "\"long\""
        },
        {
         "metadata": "{}",
         "name": "budget",
         "type": "\"long\""
        },
        {
         "metadata": "{}",
         "name": "category",
         "type": "\"string\""
        },
        {
         "metadata": "{}",
         "name": "month",
         "type": "\"string\""
        },
        {
         "metadata": "{}",
         "name": "quarter",
         "type": "\"string\""
        },
        {
         "metadata": "{}",
         "name": "variance",
         "type": "\"long\""
        }
       ],
       "type": "table"
      }
     },
     "output_type": "display_data"
    }
   ],
   "source": [
    "# Databricks notebook source\n",
    "import requests\n",
    "import json\n",
    "import time\n",
    "from pyspark.sql.types import StructType, StringType, FloatType, IntegerType\n",
    "from pyspark.sql import SparkSession\n",
    "from pyspark.sql.functions import col, from_json\n",
    "\n",
    "# API configuration\n",
    "API_URL = \"http://10.223.106.19:8000\"\n",
    "MAX_RETRIES = 3\n",
    "RETRY_DELAY = 2  # seconds\n",
    "\n",
    "# Retrieve API key from Databricks Secret\n",
    "\n",
    "try:\n",
    "    API_KEY = dbutils.secrets.get(scope=\"dev_secret_scope\", key=\"fast-api-key\")\n",
    "    print(\"API key retrieved from secrets\")\n",
    "except Exception as e:\n",
    "    print(f\"Error retrieving API key: {e}\")\n",
    "# Get the workflow name from the notebook context or widget\n",
    "workflow_name = dbutils.notebook.entry_point.getDbutils().notebook().getContext().tags().get(\"jobName\")\n",
    "if not workflow_name:\n",
    "    workflow_name = dbutils.widgets.get(\"workflow_name\")\n",
    "\n",
    "# Set script_name based on workflow name or fall back to notebook name\n",
    "script_name = str(workflow_name) + \".py\"\n",
    "# Create widgets to receive parameters (these will be populated by the workflow)\n",
    "# dbutils.widgets.text(\"script_name\", \"\", \"Script Name\")\n",
    "dbutils.widgets.text(\"parameters\", \"\", \"Parameters (comma-separated key=value pairs)\")\n",
    "# Add this line to debug parameter reception\n",
    "# print(f\"Raw widget values - script_name: '{dbutils.widgets.get('script_name')}', parameters: '{dbutils.widgets.get('parameters')}'\")\n",
    "\n",
    "parameters_str = dbutils.widgets.get(\"parameters\")\n",
    "\n",
    "# Parse parameters string into a dictionary\n",
    "parameters = {}\n",
    "# if parameters_str:\n",
    "#     for pair in parameters_str.split(\",\"):\n",
    "#         if \"=\" in pair:\n",
    "#             key, value = pair.split(\"=\", 1)\n",
    "#             parameters[key.strip()] = value.strip()\n",
    "\n",
    "print(f\"Running script: {script_name}\")\n",
    "print(f\"With parameters: {json.dumps(parameters, indent=2)}\")\n",
    "\n",
    "# COMMAND ----------\n",
    "# Check if API is accessible\n",
    "def check_api_health():\n",
    "    try:\n",
    "        response = requests.get(\n",
    "            f\"{API_URL}/health\",\n",
    "            headers={\"X-API-Key\": API_KEY}\n",
    "        )\n",
    "        if response.status_code == 200:\n",
    "            print(\"API is accessible!\")\n",
    "            return True\n",
    "        else:\n",
    "            print(f\"API returned status code: {response.status_code}\")\n",
    "            print(f\"Response: {response.text}\")\n",
    "            return False\n",
    "    except Exception as e:\n",
    "        print(f\"Error connecting to API: {e}\")\n",
    "        return False\n",
    "\n",
    "# COMMAND ----------\n",
    "# Run a script with parameters and get results with retry logic\n",
    "def run_script(script_name, parameters=None):\n",
    "    retries = 0\n",
    "    while retries < MAX_RETRIES:\n",
    "        try:\n",
    "            payload = {\n",
    "                \"script_name\": script_name\n",
    "            }\n",
    "            \n",
    "            if parameters:\n",
    "                payload[\"parameters\"] = parameters\n",
    "                \n",
    "            response = requests.post(\n",
    "                f\"{API_URL}/run-script\",\n",
    "                json=payload,\n",
    "                headers={\"X-API-Key\": API_KEY},\n",
    "                timeout=300  # 5-minute timeout for the client connection\n",
    "            )\n",
    "            \n",
    "            if response.status_code == 200:\n",
    "                return response.json()\n",
    "            elif response.status_code == 401:\n",
    "                # Authentication error\n",
    "                print(\"API key authentication failed. Please check your API key.\")\n",
    "                return None\n",
    "            elif response.status_code == 429:  # Rate limit exceeded\n",
    "                retry_after = int(response.headers.get('Retry-After', RETRY_DELAY))\n",
    "                print(f\"Rate limit exceeded. Retrying in {retry_after} seconds...\")\n",
    "                time.sleep(retry_after)\n",
    "                retries += 1\n",
    "                continue\n",
    "            else:\n",
    "                print(f\"Error: API returned status code {response.status_code}\")\n",
    "                print(f\"Response: {response.text}\")\n",
    "                return None\n",
    "        except Exception as e:\n",
    "            print(f\"Error running script: {e}\")\n",
    "            retries += 1\n",
    "            if retries < MAX_RETRIES:\n",
    "                print(f\"Retrying ({retries}/{MAX_RETRIES})...\")\n",
    "                time.sleep(RETRY_DELAY)\n",
    "            continue\n",
    "    \n",
    "    print(f\"Maximum retries ({MAX_RETRIES}) exceeded. Unable to execute script.\")\n",
    "    return None\n",
    "\n",
    "# COMMAND ----------\n",
    "# Convert JSON result to DataFrame\n",
    "def json_to_dataframe(json_data):\n",
    "    if not json_data or not isinstance(json_data, dict):\n",
    "        print(\"Invalid JSON data\")\n",
    "        return None\n",
    "    \n",
    "    spark = SparkSession.builder.getOrCreate()\n",
    "    \n",
    "    # Handle various JSON structures generically\n",
    "    if \"output\" in json_data and isinstance(json_data[\"output\"], dict):\n",
    "        output = json_data[\"output\"]\n",
    "        \n",
    "        # If there's a data key with a list of records\n",
    "        if \"data\" in output and isinstance(output[\"data\"], list) and output[\"data\"]:\n",
    "            # Convert to DataFrame\n",
    "            df = spark.createDataFrame(output[\"data\"])\n",
    "            return df\n",
    "            \n",
    "        # If there's a summary key\n",
    "        elif \"summary\" in output and isinstance(output[\"summary\"], dict):\n",
    "            # Convert summary to a single-row DataFrame\n",
    "            summary_df = spark.createDataFrame([output[\"summary\"]])\n",
    "            return summary_df\n",
    "    \n",
    "    # If we can't find a specific structure, create a generic DataFrame from the output\n",
    "    json_str = json.dumps(json_data[\"output\"]) if \"output\" in json_data else json.dumps(json_data)\n",
    "    df = spark.createDataFrame([(json_str,)], [\"json_data\"])\n",
    "    \n",
    "    # Try to parse the JSON structure\n",
    "    try:\n",
    "        schema = spark.read.json(spark.sparkContext.parallelize([json_str])).schema\n",
    "        return df.withColumn(\"parsed_data\", from_json(col(\"json_data\"), schema))\n",
    "    except:\n",
    "        # If parsing fails, return the raw JSON\n",
    "        return df\n",
    "\n",
    "# COMMAND ----------\n",
    "# Main execution logic\n",
    "if not script_name:\n",
    "    print(\"No script name provided. Please provide a script_name parameter.\")\n",
    "else:\n",
    "    # Check API health\n",
    "    if check_api_health():\n",
    "        # Run the script with parameters\n",
    "        print(f\"Running script: {script_name} with parameters: {parameters}\")\n",
    "        result = run_script(script_name, parameters)\n",
    "        \n",
    "        if result:\n",
    "            print(f\"\\nScript execution successful: {result['success']}\")\n",
    "            \n",
    "            # Display any errors\n",
    "            if result.get(\"error\"):\n",
    "                print(f\"\\nExecution Errors:\\n{result['error']}\")\n",
    "            \n",
    "            # Display summary information if available\n",
    "            if \"output\" in result and isinstance(result[\"output\"], dict) and \"summary\" in result[\"output\"]:\n",
    "                summary = result[\"output\"][\"summary\"]\n",
    "                print(\"\\nSummary:\")\n",
    "                for key, value in summary.items():\n",
    "                    print(f\"  {key}: {value}\")\n",
    "            \n",
    "            # Convert to DataFrame and display\n",
    "            df = json_to_dataframe(result)\n",
    "            if df is not None:\n",
    "                print(\"\\nData from script execution:\")\n",
    "                display(df)\n",
    "                \n",
    "                # Optional: Save to a Delta table\n",
    "                # table_name = f\"fast_api_results_{script_name.replace('.', '_')}\"\n",
    "                # df.write.format(\"delta\").mode(\"append\").saveAsTable(table_name)\n",
    "                # print(f\"Results saved to table: {table_name}\")\n",
    "            else:\n",
    "                print(\"\\nRaw output:\")\n",
    "                print(json.dumps(result[\"output\"], indent=2))\n",
    "        else:\n",
    "            print(\"Failed to execute script or get results.\")\n",
    "    else:\n",
    "        print(\"Cannot run script. API is not accessible.\")"
   ]
  }
 ],
 "metadata": {
  "application/vnd.databricks.v1+notebook": {
   "computePreferences": null,
   "dashboards": [],
   "environmentMetadata": {
    "base_environment": "",
    "environment_version": "2"
   },
   "inputWidgetPreferences": null,
   "language": "python",
   "notebookMetadata": {
    "pythonIndentUnit": 4,
    "widgetLayout": []
   },
   "notebookName": "Fast_Api",
   "widgets": {
    "list_scripts": {
     "currentValue": "No",
     "nuid": "008887a0-b4b2-4255-8df1-92d23b419374",
     "typedWidgetInfo": {
      "autoCreated": false,
      "defaultValue": "No",
      "label": "List Available Scripts",
      "name": "list_scripts",
      "options": {
       "choices": [
        "No",
        "Yes"
       ],
       "fixedDomain": true,
       "multiselect": false,
       "widgetDisplayType": "Dropdown"
      },
      "parameterDataType": "String"
     },
     "widgetInfo": {
      "defaultValue": "No",
      "label": "List Available Scripts",
      "name": "list_scripts",
      "options": {
       "autoCreated": false,
       "choices": [
        "No",
        "Yes"
       ],
       "widgetType": "dropdown"
      },
      "widgetType": "dropdown"
     }
    },
    "parameters": {
     "currentValue": "category=Sales,month=January",
     "nuid": "43c44e7f-aec0-4e39-944d-9eef11fbbcea",
     "typedWidgetInfo": {
      "autoCreated": false,
      "defaultValue": "",
      "label": "Parameters (comma-separated key=value pairs)",
      "name": "parameters",
      "options": {
       "validationRegex": null,
       "widgetDisplayType": "Text"
      },
      "parameterDataType": "String"
     },
     "widgetInfo": {
      "defaultValue": "",
      "label": "Parameters (comma-separated key=value pairs)",
      "name": "parameters",
      "options": {
       "autoCreated": null,
       "validationRegex": null,
       "widgetType": "text"
      },
      "widgetType": "text"
     }
    },
    "script_name": {
     "currentValue": "budget_finance.py",
     "nuid": "4bc5dd6b-5cf5-44c3-acb5-bca336197248",
     "typedWidgetInfo": {
      "autoCreated": false,
      "defaultValue": "",
      "label": "Script Name",
      "name": "script_name",
      "options": {
       "validationRegex": null,
       "widgetDisplayType": "Text"
      },
      "parameterDataType": "String"
     },
     "widgetInfo": {
      "defaultValue": "",
      "label": "Script Name",
      "name": "script_name",
      "options": {
       "autoCreated": null,
       "validationRegex": null,
       "widgetType": "text"
      },
      "widgetType": "text"
     }
    }
   }
  },
  "language_info": {
   "name": "python"
  }
 },
 "nbformat": 4,
 "nbformat_minor": 0
}
